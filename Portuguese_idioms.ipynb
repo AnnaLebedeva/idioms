{
 "cells": [
  {
   "cell_type": "code",
   "execution_count": 1,
   "id": "9cabf7d3",
   "metadata": {},
   "outputs": [],
   "source": [
    "import requests\n",
    "from bs4 import BeautifulSoup\n",
    "from lxml import html\n",
    "import json\n",
    "import re\n",
    "import csv\n",
    "import pandas as pd\n",
    "from collections import Counter\n",
    "from tqdm import tqdm"
   ]
  },
  {
   "cell_type": "code",
   "execution_count": null,
   "id": "26ebbbdf",
   "metadata": {
    "scrolled": true
   },
   "outputs": [],
   "source": [
    "url = 'https://en.wiktionary.org/wiki/Category:Portuguese_idioms'\n",
    "dict_of_links = {}\n",
    "while True:\n",
    "    page = requests.get(url)\n",
    "    html = page.text\n",
    "    soup = BeautifulSoup(html)\n",
    "    for item in soup.select(\"div[class='mw-category-generated'] a[href^='/wiki/']\"):\n",
    "        if re.search('(?<=>)(.*)(?=<)', str(item)).group(0) == 'Synonymes de langues en français':\n",
    "            pass\n",
    "        else:\n",
    "            collocation = re.search('(?<=>)(.*)(?=<)', str(item)).group(0)\n",
    "            link = 'https://en.wiktionary.org'+re.search('(?<=href=\")([^\"]*)', str(item)).group(0)\n",
    "            dict_of_links[collocation] = link\n",
    "        #     print('https://en.wiktionary.org'+re.search('(?<=href=\")([^\"]*)', str(item)).group(0))\n",
    "    next_page_available = 0\n",
    "    for i in soup.find_all('a'):\n",
    "        if i.string == 'next page':\n",
    "            url='https://en.wiktionary.org/'+i['href']\n",
    "            next_page_available = 1\n",
    "            break\n",
    "    if not next_page_available:\n",
    "        break\n",
    "dict_of_links"
   ]
  },
  {
   "cell_type": "code",
   "execution_count": 3,
   "id": "2011e79f",
   "metadata": {},
   "outputs": [],
   "source": [
    "del dict_of_links['Portuguese rhetorical questions']\n",
    "del dict_of_links['Portuguese snowclones']\n",
    "del dict_of_links['Appendix:Portuguese idioms']"
   ]
  },
  {
   "cell_type": "code",
   "execution_count": 7,
   "id": "09cc06ec",
   "metadata": {},
   "outputs": [
    {
     "data": {
      "text/plain": [
       "749"
      ]
     },
     "execution_count": 7,
     "metadata": {},
     "output_type": "execute_result"
    }
   ],
   "source": [
    "len(dict_of_links)"
   ]
  },
  {
   "cell_type": "code",
   "execution_count": 2,
   "id": "04f621a0",
   "metadata": {},
   "outputs": [],
   "source": [
    "from wiktionaryparser import WiktionaryParser\n",
    "parser = WiktionaryParser()"
   ]
  },
  {
   "cell_type": "code",
   "execution_count": 4,
   "id": "c33537b3",
   "metadata": {
    "scrolled": false
   },
   "outputs": [],
   "source": [
    "list_for_file = []\n",
    "for collocation in tqdm(dict_of_links):\n",
    "    try:\n",
    "        collocation_info = parser.fetch(collocation, 'portuguese')\n",
    "        if collocation_info!=[]:\n",
    "            if collocation_info[0]['definitions']!=[]:\n",
    "                for i in range(len(collocation_info[0]['definitions'])):\n",
    "                    list_for_collocation = [collocation]\n",
    "                    if 'partOfSpeech' in collocation_info[0]['definitions'][i]:\n",
    "                        list_for_collocation.append(collocation_info[0]['definitions'][i]['partOfSpeech'])\n",
    "                        list_for_collocation.append(collocation_info[0]['definitions'][i]['text'][1:])\n",
    "                    else:\n",
    "                        list_for_collocation.append('')\n",
    "                        list_for_collocation.append(collocation_info[0]['definitions'][i]['text'][1:])\n",
    "                    list_for_collocation.append(dict_of_links[collocation])\n",
    "                    list_for_file.append(list_for_collocation)\n",
    "    except AttributeError:\n",
    "        pass\n",
    "list_for_file"
   ]
  },
  {
   "cell_type": "code",
   "execution_count": 11,
   "id": "48fa0231",
   "metadata": {},
   "outputs": [],
   "source": [
    "with open('Portuguese_idioms.tsv', 'w', newline='') as record_file:\n",
    "    tsv_writer = csv.writer(record_file, delimiter='\\t', lineterminator='\\n')\n",
    "    tsv_writer.writerow(['Collocation', 'Part_of_speech', 'Definition', 'Link'])\n",
    "    for collocation_info in list_for_file:\n",
    "        tsv_writer.writerow([collocation_info[0], collocation_info[1], collocation_info[2],\\\n",
    "                             dict_of_links[collocation_info[0]]])"
   ]
  },
  {
   "cell_type": "code",
   "execution_count": null,
   "id": "82eaa461",
   "metadata": {
    "scrolled": false
   },
   "outputs": [],
   "source": [
    "df = pd.read_csv(\"Portuguese_idioms.tsv\",sep='\\t')\n",
    "def left_align(df):\n",
    "    left_aligned_df = df.style.set_properties(**{'text-align': 'left'})\n",
    "    left_aligned_df = left_aligned_df.set_table_styles(\n",
    "        [dict(selector='th', props=[('text-align', 'left')])]\n",
    "    )\n",
    "    return left_aligned_df\n",
    "pd.options.display.max_colwidth=100\n",
    "pd.options.display.max_rows=50\n",
    "# display(left_align(df[['Collocation','Part_of_speech','Definition']].head(500)))\n",
    "display(left_align(df))"
   ]
  },
  {
   "cell_type": "code",
   "execution_count": 47,
   "id": "40623678",
   "metadata": {},
   "outputs": [
    {
     "name": "stderr",
     "output_type": "stream",
     "text": [
      "100%|█████████████████████████████████████████| 546/546 [03:07<00:00,  2.91it/s]\n"
     ]
    }
   ],
   "source": [
    "list_of_literal_meanings = []\n",
    "for collocation in tqdm(df['Collocation']):\n",
    "    collocation_info = parser.fetch(collocation, 'portugese')\n",
    "    if collocation_info!=[]:\n",
    "        if collocation_info[0]['etymology']!=[]:\n",
    "            if not re.search('(?<=Literally, “)([^”]*)', collocation_info[0]['etymology']):\n",
    "                list_of_literal_meanings.append('')\n",
    "            else:\n",
    "                list_of_literal_meanings.append(re.search('(?<=Literally, “)([^”]*)', \\\n",
    "                                                      collocation_info[0]['etymology']).group(0))\n",
    "#         else:\n",
    "#             list_of_literal_meanings.append('')\n",
    "#     else:\n",
    "#         list_of_literal_meanings.append('')"
   ]
  },
  {
   "cell_type": "code",
   "execution_count": 48,
   "id": "b22c2fa0",
   "metadata": {},
   "outputs": [
    {
     "data": {
      "text/plain": [
       "546"
      ]
     },
     "execution_count": 48,
     "metadata": {},
     "output_type": "execute_result"
    }
   ],
   "source": [
    "len(list_of_literal_meanings)"
   ]
  },
  {
   "cell_type": "code",
   "execution_count": 49,
   "id": "4502ba93",
   "metadata": {},
   "outputs": [
    {
     "data": {
      "text/html": [
       "<div>\n",
       "<style scoped>\n",
       "    .dataframe tbody tr th:only-of-type {\n",
       "        vertical-align: middle;\n",
       "    }\n",
       "\n",
       "    .dataframe tbody tr th {\n",
       "        vertical-align: top;\n",
       "    }\n",
       "\n",
       "    .dataframe thead th {\n",
       "        text-align: right;\n",
       "    }\n",
       "</style>\n",
       "<table border=\"1\" class=\"dataframe\">\n",
       "  <thead>\n",
       "    <tr style=\"text-align: right;\">\n",
       "      <th></th>\n",
       "      <th>Collocation</th>\n",
       "      <th>Part_of_speech</th>\n",
       "      <th>Literal meaning</th>\n",
       "      <th>Definition</th>\n",
       "      <th>Link</th>\n",
       "    </tr>\n",
       "  </thead>\n",
       "  <tbody>\n",
       "    <tr>\n",
       "      <th>0</th>\n",
       "      <td>a caminho</td>\n",
       "      <td>adverb</td>\n",
       "      <td></td>\n",
       "      <td>[\"(idiomatic) on the way; on one's way; en route\"]</td>\n",
       "      <td>https://en.wiktionary.org/wiki/a_caminho</td>\n",
       "    </tr>\n",
       "    <tr>\n",
       "      <th>1</th>\n",
       "      <td>a casa caiu</td>\n",
       "      <td>phrase</td>\n",
       "      <td>the house has collapsed</td>\n",
       "      <td>['(idiomatic) said after a particularly undesirable, harmful change of events; often, though not...</td>\n",
       "      <td>https://en.wiktionary.org/wiki/a_casa_caiu</td>\n",
       "    </tr>\n",
       "    <tr>\n",
       "      <th>2</th>\n",
       "      <td>a contragosto</td>\n",
       "      <td>adverb</td>\n",
       "      <td></td>\n",
       "      <td>['(idiomatic) against the grain; unwillingly; reluctantly']</td>\n",
       "      <td>https://en.wiktionary.org/wiki/a_contragosto</td>\n",
       "    </tr>\n",
       "    <tr>\n",
       "      <th>3</th>\n",
       "      <td>a Deus dará</td>\n",
       "      <td>adjective</td>\n",
       "      <td></td>\n",
       "      <td>['(idiomatic) disordered']</td>\n",
       "      <td>https://en.wiktionary.org/wiki/a_Deus_dar%C3%A1</td>\n",
       "    </tr>\n",
       "    <tr>\n",
       "      <th>4</th>\n",
       "      <td>a fila anda</td>\n",
       "      <td>phrase</td>\n",
       "      <td>the line walks</td>\n",
       "      <td>['(idiomatic) that ship has sailed (that opportunity has been lost)', '(idiomatic) expresses the...</td>\n",
       "      <td>https://en.wiktionary.org/wiki/a_fila_anda</td>\n",
       "    </tr>\n",
       "  </tbody>\n",
       "</table>\n",
       "</div>"
      ],
      "text/plain": [
       "     Collocation Part_of_speech          Literal meaning  \\\n",
       "0      a caminho         adverb                            \n",
       "1    a casa caiu         phrase  the house has collapsed   \n",
       "2  a contragosto         adverb                            \n",
       "3    a Deus dará      adjective                            \n",
       "4    a fila anda         phrase           the line walks   \n",
       "\n",
       "                                                                                            Definition  \\\n",
       "0                                                   [\"(idiomatic) on the way; on one's way; en route\"]   \n",
       "1  ['(idiomatic) said after a particularly undesirable, harmful change of events; often, though not...   \n",
       "2                                          ['(idiomatic) against the grain; unwillingly; reluctantly']   \n",
       "3                                                                           ['(idiomatic) disordered']   \n",
       "4  ['(idiomatic) that ship has sailed (that opportunity has been lost)', '(idiomatic) expresses the...   \n",
       "\n",
       "                                              Link  \n",
       "0         https://en.wiktionary.org/wiki/a_caminho  \n",
       "1       https://en.wiktionary.org/wiki/a_casa_caiu  \n",
       "2     https://en.wiktionary.org/wiki/a_contragosto  \n",
       "3  https://en.wiktionary.org/wiki/a_Deus_dar%C3%A1  \n",
       "4       https://en.wiktionary.org/wiki/a_fila_anda  "
      ]
     },
     "execution_count": 49,
     "metadata": {},
     "output_type": "execute_result"
    }
   ],
   "source": [
    "df.insert(2, 'Literal meaning', list_of_literal_meanings)\n",
    "df.head()"
   ]
  },
  {
   "cell_type": "code",
   "execution_count": 53,
   "id": "ade0d497",
   "metadata": {},
   "outputs": [],
   "source": [
    "df.to_csv(\"port_idioms_wLM.tsv\", sep = \"\\t\", index=False)"
   ]
  },
  {
   "cell_type": "code",
   "execution_count": null,
   "id": "b3d819f1",
   "metadata": {},
   "outputs": [],
   "source": []
  },
  {
   "cell_type": "code",
   "execution_count": null,
   "id": "0b438c1d",
   "metadata": {},
   "outputs": [],
   "source": []
  }
 ],
 "metadata": {
  "kernelspec": {
   "display_name": "Python 3 (ipykernel)",
   "language": "python",
   "name": "python3"
  },
  "language_info": {
   "codemirror_mode": {
    "name": "ipython",
    "version": 3
   },
   "file_extension": ".py",
   "mimetype": "text/x-python",
   "name": "python",
   "nbconvert_exporter": "python",
   "pygments_lexer": "ipython3",
   "version": "3.9.12"
  }
 },
 "nbformat": 4,
 "nbformat_minor": 5
}
