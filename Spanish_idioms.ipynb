{
 "cells": [
  {
   "cell_type": "code",
   "execution_count": 3,
   "id": "9cabf7d3",
   "metadata": {},
   "outputs": [],
   "source": [
    "import requests\n",
    "from bs4 import BeautifulSoup\n",
    "from lxml import html\n",
    "import json\n",
    "import re\n",
    "import csv\n",
    "import pandas as pd\n",
    "from collections import Counter\n",
    "from tqdm import tqdm\n",
    "\n",
    "from wiktionaryparser import WiktionaryParser\n",
    "parser = WiktionaryParser()"
   ]
  },
  {
   "cell_type": "code",
   "execution_count": 1,
   "id": "26ebbbdf",
   "metadata": {
    "scrolled": true
   },
   "outputs": [],
   "source": [
    "url = 'https://en.wiktionary.org/wiki/Category:Spanish_idioms'\n",
    "dict_of_links = {}\n",
    "while True:\n",
    "    page = requests.get(url)\n",
    "    html = page.text\n",
    "    soup = BeautifulSoup(html)\n",
    "    for item in soup.select(\"div[class='mw-category-generated'] a[href^='/wiki/']\"):\n",
    "        if re.search('(?<=>)(.*)(?=<)', str(item)).group(0) == 'Synonymes de langues en français':\n",
    "            pass\n",
    "        else:\n",
    "            collocation = re.search('(?<=>)(.*)(?=<)', str(item)).group(0)\n",
    "            link = 'https://en.wiktionary.org'+re.search('(?<=href=\")([^\"]*)', str(item)).group(0)\n",
    "            dict_of_links[collocation] = link\n",
    "        #     print('https://en.wiktionary.org'+re.search('(?<=href=\")([^\"]*)', str(item)).group(0))\n",
    "    next_page_available = 0\n",
    "    for i in soup.find_all('a'):\n",
    "        if i.string == 'next page':\n",
    "            url='https://en.wiktionary.org/'+i['href']\n",
    "            next_page_available = 1\n",
    "            break\n",
    "    if not next_page_available:\n",
    "        break\n",
    "dict_of_links"
   ]
  },
  {
   "cell_type": "code",
   "execution_count": 6,
   "id": "2011e79f",
   "metadata": {},
   "outputs": [],
   "source": [
    "del dict_of_links['Spanish rhetorical questions']\n",
    "del dict_of_links['Spanish verbs with lexical clitics']"
   ]
  },
  {
   "cell_type": "code",
   "execution_count": 7,
   "id": "09cc06ec",
   "metadata": {},
   "outputs": [
    {
     "data": {
      "text/plain": [
       "2535"
      ]
     },
     "execution_count": 7,
     "metadata": {},
     "output_type": "execute_result"
    }
   ],
   "source": [
    "len(dict_of_links)"
   ]
  },
  {
   "cell_type": "code",
   "execution_count": 2,
   "id": "c33537b3",
   "metadata": {
    "scrolled": false
   },
   "outputs": [],
   "source": [
    "list_for_file = []\n",
    "for collocation in dict_of_links:\n",
    "    try:\n",
    "        collocation_info = parser.fetch(collocation, 'spanish')\n",
    "        if collocation_info!=[]:\n",
    "            if collocation_info[0]['definitions']!=[]:\n",
    "                for i in range(len(collocation_info[0]['definitions'])):\n",
    "                    list_for_collocation = [collocation]\n",
    "                    if 'partOfSpeech' in collocation_info[0]['definitions'][i]:\n",
    "                        list_for_collocation.append(collocation_info[0]['definitions'][i]['partOfSpeech'])\n",
    "                        list_for_collocation.append(collocation_info[0]['definitions'][i]['text'][1:])\n",
    "                    else:\n",
    "                        list_for_collocation.append('')\n",
    "                        list_for_collocation.append(collocation_info[0]['definitions'][i]['text'][1:])\n",
    "                    list_for_collocation.append(dict_of_links[collocation])\n",
    "                    list_for_file.append(list_for_collocation)\n",
    "    except AttributeError:\n",
    "        pass\n",
    "list_for_file"
   ]
  },
  {
   "cell_type": "code",
   "execution_count": 12,
   "id": "48fa0231",
   "metadata": {},
   "outputs": [],
   "source": [
    "with open('Spanish_idioms.tsv', 'w', newline='') as record_file:\n",
    "    tsv_writer = csv.writer(record_file, delimiter='\\t', lineterminator='\\n')\n",
    "    tsv_writer.writerow(['Collocation', 'Part_of_speech', 'Definition', 'Link'])\n",
    "    for collocation_info in list_for_file:\n",
    "        tsv_writer.writerow([collocation_info[0], collocation_info[1], collocation_info[2],\\\n",
    "                             dict_of_links[collocation_info[0]]])"
   ]
  },
  {
   "cell_type": "code",
   "execution_count": null,
   "id": "82eaa461",
   "metadata": {
    "scrolled": false
   },
   "outputs": [],
   "source": [
    "df = pd.read_csv(\"Spanish_idioms.tsv\",sep='\\t')\n",
    "def left_align(df):\n",
    "    left_aligned_df = df.style.set_properties(**{'text-align': 'left'})\n",
    "    left_aligned_df = left_aligned_df.set_table_styles(\n",
    "        [dict(selector='th', props=[('text-align', 'left')])]\n",
    "    )\n",
    "    return left_aligned_df\n",
    "pd.options.display.max_colwidth=100\n",
    "pd.options.display.max_rows=50\n",
    "# display(left_align(df[['Collocation','Part_of_speech','Definition']].head(500)))\n",
    "display(left_align(df))"
   ]
  },
  {
   "cell_type": "code",
   "execution_count": 14,
   "id": "5a495b8e",
   "metadata": {},
   "outputs": [
    {
     "name": "stderr",
     "output_type": "stream",
     "text": [
      "100%|███████████████████████████████████████| 2568/2568 [21:34<00:00,  1.98it/s]\n"
     ]
    }
   ],
   "source": [
    "list_of_literal_meanings = []\n",
    "for collocation in tqdm(df['Collocation']):\n",
    "    collocation_info = parser.fetch(collocation, 'spanish')\n",
    "    if collocation_info!=[]:\n",
    "        if collocation_info[0]['etymology']!=[]:\n",
    "            if not re.search('(?<=Literally, \")([^\"]*)', collocation_info[0]['etymology']):\n",
    "                list_of_literal_meanings.append('')\n",
    "            else:\n",
    "                list_of_literal_meanings.append(re.search('(?<=Literally, \")([^\"]*)', \\\n",
    "                                                      collocation_info[0]['etymology']).group(0))"
   ]
  },
  {
   "cell_type": "code",
   "execution_count": 15,
   "id": "f8ab2ccd",
   "metadata": {},
   "outputs": [
    {
     "data": {
      "text/plain": [
       "2568"
      ]
     },
     "execution_count": 15,
     "metadata": {},
     "output_type": "execute_result"
    }
   ],
   "source": [
    "len(list_of_literal_meanings)"
   ]
  },
  {
   "cell_type": "code",
   "execution_count": 17,
   "id": "62246831",
   "metadata": {},
   "outputs": [
    {
     "data": {
      "text/html": [
       "<div>\n",
       "<style scoped>\n",
       "    .dataframe tbody tr th:only-of-type {\n",
       "        vertical-align: middle;\n",
       "    }\n",
       "\n",
       "    .dataframe tbody tr th {\n",
       "        vertical-align: top;\n",
       "    }\n",
       "\n",
       "    .dataframe thead th {\n",
       "        text-align: right;\n",
       "    }\n",
       "</style>\n",
       "<table border=\"1\" class=\"dataframe\">\n",
       "  <thead>\n",
       "    <tr style=\"text-align: right;\">\n",
       "      <th></th>\n",
       "      <th>Collocation</th>\n",
       "      <th>Part_of_speech</th>\n",
       "      <th>Definition</th>\n",
       "      <th>Link</th>\n",
       "    </tr>\n",
       "  </thead>\n",
       "  <tbody>\n",
       "    <tr>\n",
       "      <th>0</th>\n",
       "      <td>a base de bien</td>\n",
       "      <td>adverb</td>\n",
       "      <td>['(Spain, idiomatic) loads; galore']</td>\n",
       "      <td>https://en.wiktionary.org/wiki/a_base_de_bien</td>\n",
       "    </tr>\n",
       "    <tr>\n",
       "      <th>1</th>\n",
       "      <td>a bote pronto</td>\n",
       "      <td>adverb</td>\n",
       "      <td>[\"(idiomatic) off the top of one's head\"]</td>\n",
       "      <td>https://en.wiktionary.org/wiki/a_bote_pronto</td>\n",
       "    </tr>\n",
       "    <tr>\n",
       "      <th>2</th>\n",
       "      <td>a brazo partido</td>\n",
       "      <td>adverb</td>\n",
       "      <td>['(idiomatic) tooth and nail']</td>\n",
       "      <td>https://en.wiktionary.org/wiki/a_brazo_partido</td>\n",
       "    </tr>\n",
       "    <tr>\n",
       "      <th>3</th>\n",
       "      <td>a buen recaudo</td>\n",
       "      <td>adverb</td>\n",
       "      <td>['(idiomatic) safe and sound']</td>\n",
       "      <td>https://en.wiktionary.org/wiki/a_buen_recaudo</td>\n",
       "    </tr>\n",
       "    <tr>\n",
       "      <th>4</th>\n",
       "      <td>a buen seguro</td>\n",
       "      <td>adverb</td>\n",
       "      <td>['(idiomatic) surely, for sure, no doubt']</td>\n",
       "      <td>https://en.wiktionary.org/wiki/a_buen_seguro</td>\n",
       "    </tr>\n",
       "  </tbody>\n",
       "</table>\n",
       "</div>"
      ],
      "text/plain": [
       "       Collocation Part_of_speech                                  Definition  \\\n",
       "0   a base de bien         adverb        ['(Spain, idiomatic) loads; galore']   \n",
       "1    a bote pronto         adverb   [\"(idiomatic) off the top of one's head\"]   \n",
       "2  a brazo partido         adverb              ['(idiomatic) tooth and nail']   \n",
       "3   a buen recaudo         adverb              ['(idiomatic) safe and sound']   \n",
       "4    a buen seguro         adverb  ['(idiomatic) surely, for sure, no doubt']   \n",
       "\n",
       "                                             Link  \n",
       "0   https://en.wiktionary.org/wiki/a_base_de_bien  \n",
       "1    https://en.wiktionary.org/wiki/a_bote_pronto  \n",
       "2  https://en.wiktionary.org/wiki/a_brazo_partido  \n",
       "3   https://en.wiktionary.org/wiki/a_buen_recaudo  \n",
       "4    https://en.wiktionary.org/wiki/a_buen_seguro  "
      ]
     },
     "execution_count": 17,
     "metadata": {},
     "output_type": "execute_result"
    }
   ],
   "source": [
    "df.head()"
   ]
  },
  {
   "cell_type": "code",
   "execution_count": 18,
   "id": "1a09c486",
   "metadata": {},
   "outputs": [
    {
     "data": {
      "text/html": [
       "<div>\n",
       "<style scoped>\n",
       "    .dataframe tbody tr th:only-of-type {\n",
       "        vertical-align: middle;\n",
       "    }\n",
       "\n",
       "    .dataframe tbody tr th {\n",
       "        vertical-align: top;\n",
       "    }\n",
       "\n",
       "    .dataframe thead th {\n",
       "        text-align: right;\n",
       "    }\n",
       "</style>\n",
       "<table border=\"1\" class=\"dataframe\">\n",
       "  <thead>\n",
       "    <tr style=\"text-align: right;\">\n",
       "      <th></th>\n",
       "      <th>Collocation</th>\n",
       "      <th>Part_of_speech</th>\n",
       "      <th>Literal meaning</th>\n",
       "      <th>Definition</th>\n",
       "      <th>Link</th>\n",
       "    </tr>\n",
       "  </thead>\n",
       "  <tbody>\n",
       "    <tr>\n",
       "      <th>0</th>\n",
       "      <td>a base de bien</td>\n",
       "      <td>adverb</td>\n",
       "      <td></td>\n",
       "      <td>['(Spain, idiomatic) loads; galore']</td>\n",
       "      <td>https://en.wiktionary.org/wiki/a_base_de_bien</td>\n",
       "    </tr>\n",
       "    <tr>\n",
       "      <th>1</th>\n",
       "      <td>a bote pronto</td>\n",
       "      <td>adverb</td>\n",
       "      <td></td>\n",
       "      <td>[\"(idiomatic) off the top of one's head\"]</td>\n",
       "      <td>https://en.wiktionary.org/wiki/a_bote_pronto</td>\n",
       "    </tr>\n",
       "    <tr>\n",
       "      <th>2</th>\n",
       "      <td>a brazo partido</td>\n",
       "      <td>adverb</td>\n",
       "      <td></td>\n",
       "      <td>['(idiomatic) tooth and nail']</td>\n",
       "      <td>https://en.wiktionary.org/wiki/a_brazo_partido</td>\n",
       "    </tr>\n",
       "    <tr>\n",
       "      <th>3</th>\n",
       "      <td>a buen recaudo</td>\n",
       "      <td>adverb</td>\n",
       "      <td></td>\n",
       "      <td>['(idiomatic) safe and sound']</td>\n",
       "      <td>https://en.wiktionary.org/wiki/a_buen_recaudo</td>\n",
       "    </tr>\n",
       "    <tr>\n",
       "      <th>4</th>\n",
       "      <td>a buen seguro</td>\n",
       "      <td>adverb</td>\n",
       "      <td></td>\n",
       "      <td>['(idiomatic) surely, for sure, no doubt']</td>\n",
       "      <td>https://en.wiktionary.org/wiki/a_buen_seguro</td>\n",
       "    </tr>\n",
       "  </tbody>\n",
       "</table>\n",
       "</div>"
      ],
      "text/plain": [
       "       Collocation Part_of_speech Literal meaning  \\\n",
       "0   a base de bien         adverb                   \n",
       "1    a bote pronto         adverb                   \n",
       "2  a brazo partido         adverb                   \n",
       "3   a buen recaudo         adverb                   \n",
       "4    a buen seguro         adverb                   \n",
       "\n",
       "                                   Definition  \\\n",
       "0        ['(Spain, idiomatic) loads; galore']   \n",
       "1   [\"(idiomatic) off the top of one's head\"]   \n",
       "2              ['(idiomatic) tooth and nail']   \n",
       "3              ['(idiomatic) safe and sound']   \n",
       "4  ['(idiomatic) surely, for sure, no doubt']   \n",
       "\n",
       "                                             Link  \n",
       "0   https://en.wiktionary.org/wiki/a_base_de_bien  \n",
       "1    https://en.wiktionary.org/wiki/a_bote_pronto  \n",
       "2  https://en.wiktionary.org/wiki/a_brazo_partido  \n",
       "3   https://en.wiktionary.org/wiki/a_buen_recaudo  \n",
       "4    https://en.wiktionary.org/wiki/a_buen_seguro  "
      ]
     },
     "execution_count": 18,
     "metadata": {},
     "output_type": "execute_result"
    }
   ],
   "source": [
    "df.insert(2, 'Literal meaning', list_of_literal_meanings)\n",
    "df.head()"
   ]
  },
  {
   "cell_type": "code",
   "execution_count": 19,
   "id": "64cba26f",
   "metadata": {},
   "outputs": [],
   "source": [
    "df.to_csv(\"spanish_idioms_wLM.tsv\", sep = \"\\t\", index=False)"
   ]
  },
  {
   "cell_type": "code",
   "execution_count": 7,
   "id": "0e7ca158",
   "metadata": {},
   "outputs": [
    {
     "data": {
      "text/plain": [
       "2568"
      ]
     },
     "execution_count": 7,
     "metadata": {},
     "output_type": "execute_result"
    }
   ],
   "source": [
    "len(df)"
   ]
  },
  {
   "cell_type": "code",
   "execution_count": null,
   "id": "0b438c1d",
   "metadata": {},
   "outputs": [],
   "source": []
  }
 ],
 "metadata": {
  "kernelspec": {
   "display_name": "Python 3 (ipykernel)",
   "language": "python",
   "name": "python3"
  },
  "language_info": {
   "codemirror_mode": {
    "name": "ipython",
    "version": 3
   },
   "file_extension": ".py",
   "mimetype": "text/x-python",
   "name": "python",
   "nbconvert_exporter": "python",
   "pygments_lexer": "ipython3",
   "version": "3.9.12"
  }
 },
 "nbformat": 4,
 "nbformat_minor": 5
}
