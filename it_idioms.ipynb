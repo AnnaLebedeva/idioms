{
 "cells": [
  {
   "cell_type": "code",
   "execution_count": 2,
   "id": "a0ed372d",
   "metadata": {},
   "outputs": [],
   "source": [
    "import requests\n",
    "from bs4 import BeautifulSoup\n",
    "from lxml import html\n",
    "import json\n",
    "import re\n",
    "import csv\n",
    "import pandas as pd\n",
    "from collections import Counter\n",
    "from tqdm import tqdm\n",
    "\n",
    "from wiktionaryparser import WiktionaryParser\n",
    "parser = WiktionaryParser()"
   ]
  },
  {
   "cell_type": "code",
   "execution_count": null,
   "id": "dedb5f13",
   "metadata": {},
   "outputs": [],
   "source": [
    "url = 'https://en.wiktionary.org/wiki/Category:Italian_idioms'\n",
    "dict_of_links = {}\n",
    "while True:\n",
    "    page = requests.get(url)\n",
    "    html = page.text\n",
    "    soup = BeautifulSoup(html)\n",
    "    for item in tqdm(soup.select(\"div[class='mw-category-generated'] a[href^='/wiki/']\")):\n",
    "        collocation = re.search('(?<=>)(.*)(?=<)', str(item)).group(0)\n",
    "        link = 'https://en.wiktionary.org'+re.search('(?<=href=\")([^\"]*)', str(item)).group(0)\n",
    "        dict_of_links[collocation] = link\n",
    "    next_page_available = 0\n",
    "    for i in soup.find_all('a'):\n",
    "        if i.string == 'next page':\n",
    "            url='https://en.wiktionary.org/'+i['href']\n",
    "            next_page_available = 1\n",
    "            break\n",
    "    if not next_page_available:\n",
    "        break\n",
    "dict_of_links"
   ]
  },
  {
   "cell_type": "code",
   "execution_count": 5,
   "id": "ae0a3bc8",
   "metadata": {},
   "outputs": [],
   "source": [
    "del dict_of_links['Italian rhetorical questions']"
   ]
  },
  {
   "cell_type": "code",
   "execution_count": 6,
   "id": "88ca9abb",
   "metadata": {},
   "outputs": [
    {
     "data": {
      "text/plain": [
       "788"
      ]
     },
     "execution_count": 6,
     "metadata": {},
     "output_type": "execute_result"
    }
   ],
   "source": [
    "len(dict_of_links)"
   ]
  },
  {
   "cell_type": "code",
   "execution_count": null,
   "id": "0d481b20",
   "metadata": {},
   "outputs": [],
   "source": [
    "list_of_definitions = []\n",
    "for collocation in tqdm(dict_of_links):\n",
    "    try:\n",
    "        collocation_info = parser.fetch(collocation, 'italian')\n",
    "        if collocation_info!=[]:\n",
    "            if collocation_info[0]['definitions']!=[]:\n",
    "                for i in range(len(collocation_info[0]['definitions'])):\n",
    "                    list_for_collocation = [collocation]\n",
    "                    if 'partOfSpeech' in collocation_info[0]['definitions'][i]:\n",
    "                        list_for_collocation.append(collocation_info[0]['definitions'][i]['partOfSpeech'])\n",
    "                        list_for_collocation.append(collocation_info[0]['definitions'][i]['text'][1:])\n",
    "                    else:\n",
    "                        list_for_collocation.append('')\n",
    "                        list_for_collocation.append(collocation_info[0]['definitions'][i]['text'][1:])\n",
    "                    list_for_collocation.append(dict_of_links[collocation])\n",
    "                    list_of_definitions.append(list_for_collocation)\n",
    "    except AttributeError:\n",
    "        pass\n",
    "list_of_definitions"
   ]
  },
  {
   "cell_type": "code",
   "execution_count": 10,
   "id": "733ed108",
   "metadata": {},
   "outputs": [
    {
     "data": {
      "text/html": [
       "<div>\n",
       "<style scoped>\n",
       "    .dataframe tbody tr th:only-of-type {\n",
       "        vertical-align: middle;\n",
       "    }\n",
       "\n",
       "    .dataframe tbody tr th {\n",
       "        vertical-align: top;\n",
       "    }\n",
       "\n",
       "    .dataframe thead th {\n",
       "        text-align: right;\n",
       "    }\n",
       "</style>\n",
       "<table border=\"1\" class=\"dataframe\">\n",
       "  <thead>\n",
       "    <tr style=\"text-align: right;\">\n",
       "      <th></th>\n",
       "      <th>Collocation</th>\n",
       "      <th>Part of speech</th>\n",
       "      <th>Definition</th>\n",
       "      <th>Link</th>\n",
       "    </tr>\n",
       "  </thead>\n",
       "  <tbody>\n",
       "    <tr>\n",
       "      <th>0</th>\n",
       "      <td>a bocca aperta</td>\n",
       "      <td>adjective</td>\n",
       "      <td>[(idiomatic) stunned, motionless, speechless]</td>\n",
       "      <td>https://en.wiktionary.org/wiki/a_bocca_aperta</td>\n",
       "    </tr>\n",
       "    <tr>\n",
       "      <th>1</th>\n",
       "      <td>a braccio</td>\n",
       "      <td>adjective</td>\n",
       "      <td>[(idiomatic) off-the-cuff, improvised, unprepa...</td>\n",
       "      <td>https://en.wiktionary.org/wiki/a_braccio</td>\n",
       "    </tr>\n",
       "    <tr>\n",
       "      <th>2</th>\n",
       "      <td>a braccio</td>\n",
       "      <td>adverb</td>\n",
       "      <td>[(idiomatic) off the cuff, in an improvised, u...</td>\n",
       "      <td>https://en.wiktionary.org/wiki/a_braccio</td>\n",
       "    </tr>\n",
       "    <tr>\n",
       "      <th>3</th>\n",
       "      <td>a capo</td>\n",
       "      <td>adverb</td>\n",
       "      <td>[at the beginning of a new paragraph or new line]</td>\n",
       "      <td>https://en.wiktionary.org/wiki/a_capo</td>\n",
       "    </tr>\n",
       "    <tr>\n",
       "      <th>4</th>\n",
       "      <td>a capo</td>\n",
       "      <td>noun</td>\n",
       "      <td>[new paragraph or new line]</td>\n",
       "      <td>https://en.wiktionary.org/wiki/a_capo</td>\n",
       "    </tr>\n",
       "  </tbody>\n",
       "</table>\n",
       "</div>"
      ],
      "text/plain": [
       "      Collocation Part of speech  \\\n",
       "0  a bocca aperta      adjective   \n",
       "1       a braccio      adjective   \n",
       "2       a braccio         adverb   \n",
       "3          a capo         adverb   \n",
       "4          a capo           noun   \n",
       "\n",
       "                                          Definition  \\\n",
       "0      [(idiomatic) stunned, motionless, speechless]   \n",
       "1  [(idiomatic) off-the-cuff, improvised, unprepa...   \n",
       "2  [(idiomatic) off the cuff, in an improvised, u...   \n",
       "3  [at the beginning of a new paragraph or new line]   \n",
       "4                        [new paragraph or new line]   \n",
       "\n",
       "                                            Link  \n",
       "0  https://en.wiktionary.org/wiki/a_bocca_aperta  \n",
       "1       https://en.wiktionary.org/wiki/a_braccio  \n",
       "2       https://en.wiktionary.org/wiki/a_braccio  \n",
       "3          https://en.wiktionary.org/wiki/a_capo  \n",
       "4          https://en.wiktionary.org/wiki/a_capo  "
      ]
     },
     "execution_count": 10,
     "metadata": {},
     "output_type": "execute_result"
    }
   ],
   "source": [
    "df = pd.DataFrame(list_of_definitions, columns = ['Collocation', 'Part of speech', 'Definition', 'Link'])\n",
    "df.head()"
   ]
  },
  {
   "cell_type": "code",
   "execution_count": 12,
   "id": "0e316ddb",
   "metadata": {},
   "outputs": [
    {
     "data": {
      "text/plain": [
       "685"
      ]
     },
     "execution_count": 12,
     "metadata": {},
     "output_type": "execute_result"
    }
   ],
   "source": [
    "len(df)"
   ]
  },
  {
   "cell_type": "code",
   "execution_count": 11,
   "id": "747ac423",
   "metadata": {},
   "outputs": [
    {
     "name": "stderr",
     "output_type": "stream",
     "text": [
      "100%|█████████████████████████████████████████| 685/685 [03:44<00:00,  3.05it/s]\n"
     ]
    }
   ],
   "source": [
    "list_of_literal_meanings = []\n",
    "for collocation in tqdm(df['Collocation']):\n",
    "    collocation_info = parser.fetch(collocation, 'italian')\n",
    "    if collocation_info!=[]:\n",
    "        if collocation_info[0]['etymology']!=[]:\n",
    "            if not re.search('(?<=Literally, \")([^\"]*)', collocation_info[0]['etymology']):\n",
    "                list_of_literal_meanings.append('')\n",
    "            else:\n",
    "                list_of_literal_meanings.append(re.search('(?<=Literally, \")([^\"]*)', \\\n",
    "                                                      collocation_info[0]['etymology']).group(0))"
   ]
  },
  {
   "cell_type": "code",
   "execution_count": 13,
   "id": "78674464",
   "metadata": {},
   "outputs": [
    {
     "data": {
      "text/plain": [
       "685"
      ]
     },
     "execution_count": 13,
     "metadata": {},
     "output_type": "execute_result"
    }
   ],
   "source": [
    "len(list_of_literal_meanings)"
   ]
  },
  {
   "cell_type": "code",
   "execution_count": 14,
   "id": "306572c4",
   "metadata": {},
   "outputs": [
    {
     "data": {
      "text/html": [
       "<div>\n",
       "<style scoped>\n",
       "    .dataframe tbody tr th:only-of-type {\n",
       "        vertical-align: middle;\n",
       "    }\n",
       "\n",
       "    .dataframe tbody tr th {\n",
       "        vertical-align: top;\n",
       "    }\n",
       "\n",
       "    .dataframe thead th {\n",
       "        text-align: right;\n",
       "    }\n",
       "</style>\n",
       "<table border=\"1\" class=\"dataframe\">\n",
       "  <thead>\n",
       "    <tr style=\"text-align: right;\">\n",
       "      <th></th>\n",
       "      <th>Collocation</th>\n",
       "      <th>Part of speech</th>\n",
       "      <th>Literal meaning</th>\n",
       "      <th>Definition</th>\n",
       "      <th>Link</th>\n",
       "    </tr>\n",
       "  </thead>\n",
       "  <tbody>\n",
       "    <tr>\n",
       "      <th>0</th>\n",
       "      <td>a bocca aperta</td>\n",
       "      <td>adjective</td>\n",
       "      <td>at open mouth.</td>\n",
       "      <td>[(idiomatic) stunned, motionless, speechless]</td>\n",
       "      <td>https://en.wiktionary.org/wiki/a_bocca_aperta</td>\n",
       "    </tr>\n",
       "    <tr>\n",
       "      <th>1</th>\n",
       "      <td>a braccio</td>\n",
       "      <td>adjective</td>\n",
       "      <td></td>\n",
       "      <td>[(idiomatic) off-the-cuff, improvised, unprepa...</td>\n",
       "      <td>https://en.wiktionary.org/wiki/a_braccio</td>\n",
       "    </tr>\n",
       "    <tr>\n",
       "      <th>2</th>\n",
       "      <td>a braccio</td>\n",
       "      <td>adverb</td>\n",
       "      <td></td>\n",
       "      <td>[(idiomatic) off the cuff, in an improvised, u...</td>\n",
       "      <td>https://en.wiktionary.org/wiki/a_braccio</td>\n",
       "    </tr>\n",
       "    <tr>\n",
       "      <th>3</th>\n",
       "      <td>a capo</td>\n",
       "      <td>adverb</td>\n",
       "      <td>at head.</td>\n",
       "      <td>[at the beginning of a new paragraph or new line]</td>\n",
       "      <td>https://en.wiktionary.org/wiki/a_capo</td>\n",
       "    </tr>\n",
       "    <tr>\n",
       "      <th>4</th>\n",
       "      <td>a capo</td>\n",
       "      <td>noun</td>\n",
       "      <td>at head.</td>\n",
       "      <td>[new paragraph or new line]</td>\n",
       "      <td>https://en.wiktionary.org/wiki/a_capo</td>\n",
       "    </tr>\n",
       "  </tbody>\n",
       "</table>\n",
       "</div>"
      ],
      "text/plain": [
       "      Collocation Part of speech Literal meaning  \\\n",
       "0  a bocca aperta      adjective  at open mouth.   \n",
       "1       a braccio      adjective                   \n",
       "2       a braccio         adverb                   \n",
       "3          a capo         adverb        at head.   \n",
       "4          a capo           noun        at head.   \n",
       "\n",
       "                                          Definition  \\\n",
       "0      [(idiomatic) stunned, motionless, speechless]   \n",
       "1  [(idiomatic) off-the-cuff, improvised, unprepa...   \n",
       "2  [(idiomatic) off the cuff, in an improvised, u...   \n",
       "3  [at the beginning of a new paragraph or new line]   \n",
       "4                        [new paragraph or new line]   \n",
       "\n",
       "                                            Link  \n",
       "0  https://en.wiktionary.org/wiki/a_bocca_aperta  \n",
       "1       https://en.wiktionary.org/wiki/a_braccio  \n",
       "2       https://en.wiktionary.org/wiki/a_braccio  \n",
       "3          https://en.wiktionary.org/wiki/a_capo  \n",
       "4          https://en.wiktionary.org/wiki/a_capo  "
      ]
     },
     "execution_count": 14,
     "metadata": {},
     "output_type": "execute_result"
    }
   ],
   "source": [
    "df.insert(2, 'Literal meaning', list_of_literal_meanings)\n",
    "df.head()"
   ]
  },
  {
   "cell_type": "code",
   "execution_count": 15,
   "id": "2f1462f3",
   "metadata": {},
   "outputs": [],
   "source": [
    "df.to_csv(\"it_idioms_wLM.tsv\", sep = \"\\t\", index=False)"
   ]
  },
  {
   "cell_type": "code",
   "execution_count": null,
   "id": "a93effe5",
   "metadata": {},
   "outputs": [],
   "source": []
  }
 ],
 "metadata": {
  "kernelspec": {
   "display_name": "Python 3 (ipykernel)",
   "language": "python",
   "name": "python3"
  },
  "language_info": {
   "codemirror_mode": {
    "name": "ipython",
    "version": 3
   },
   "file_extension": ".py",
   "mimetype": "text/x-python",
   "name": "python",
   "nbconvert_exporter": "python",
   "pygments_lexer": "ipython3",
   "version": "3.9.12"
  }
 },
 "nbformat": 4,
 "nbformat_minor": 5
}
